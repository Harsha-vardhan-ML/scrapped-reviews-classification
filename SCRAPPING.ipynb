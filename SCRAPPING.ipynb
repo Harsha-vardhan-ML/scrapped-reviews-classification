{
 "cells": [
  {
   "cell_type": "code",
   "execution_count": 1,
   "metadata": {
    "id": "B72Idlhia4Pt"
   },
   "outputs": [],
   "source": [
    "import requests\n",
    "from bs4 import BeautifulSoup"
   ]
  },
  {
   "cell_type": "code",
   "execution_count": 10,
   "metadata": {
    "id": "mmWLBjzo3Ggx"
   },
   "outputs": [],
   "source": [
    "#using header as amazon dont allow scrapping the data\n",
    "header={'User-Agent': 'Mozilla/5.0 (Windows NT 10.0; Win64; x64) AppleWebKit/537.36 (KHTML, like Gecko) Chrome/77.0.3865.90 Safari/537.36'}\n",
    "url='https://www.amazon.in/s?k=mobile+phones&rh=n%3A21775353031&ref=nb_sb_noss' #mobile phones link in amazon\n",
    "\n",
    "search_response=requests.get(url = url, headers=header) #get the link response\n",
    "#search_response.status_code #should return 200 for succesful response\n",
    "soup=BeautifulSoup(search_response.content) #pass it tp beautiful soup for parsing"
   ]
  },
  {
   "cell_type": "code",
   "execution_count": 13,
   "metadata": {
    "id": "N9YUeUU96qZt"
   },
   "outputs": [],
   "source": [
    "product_names=[]\n",
    "for i in soup.findAll(\"span\",{'class':'a-size-medium a-color-base a-text-normal'}): # the tag which is common for all the names of products\n",
    "    product_names.append(i.text) #adding the product names to the list"
   ]
  },
  {
   "cell_type": "code",
   "execution_count": 52,
   "metadata": {
    "colab": {
     "base_uri": "https://localhost:8080/",
     "height": 204
    },
    "id": "MDXU2kzFE6Gz",
    "outputId": "d4122d5a-912a-428c-acb4-48413ff98ed4"
   },
   "outputs": [
    {
     "name": "stdout",
     "output_type": "stream",
     "text": [
      "10 mobies names :\n"
     ]
    },
    {
     "data": {
      "text/plain": [
       "['OnePlus 8 (Onyx Black 8GB RAM+128GB Storage)',\n",
       " 'OnePlus 8 Pro (Ultramarine Blue 12GB RAM+256GB Storage)',\n",
       " 'Samsung Galaxy M01 (Black, 3GB RAM, 32GB Storage) with No Cost EMI/Additional Exchange Offers',\n",
       " 'Redmi 8A Dual (Sea Blue, 3GB RAM, 32GB Storage) – Dual Cameras & 5,000 mAH Battery',\n",
       " 'Samsung Galaxy M31s (Mirage Blue, 6GB RAM, 128GB Storage)',\n",
       " 'Samsung Galaxy M21 (Midnight Blue, 4GB RAM, 64GB Storage)',\n",
       " 'Samsung Galaxy M01 (Blue, 3GB RAM, 32GB Storage) with No Cost EMI/Additional Exchange Offers',\n",
       " 'Redmi 8A Dual (Sky White, 2GB RAM, 32GB Storage) – Dual Cameras & 5,000 mAH Battery',\n",
       " 'Samsung Galaxy M21 (Raven Black, 4GB RAM, 64GB Storage)',\n",
       " 'Samsung Galaxy M01 Core (Blue, 1GB RAM, 16GB Storage) with No Cost EMI/Additional Exchange Offers']"
      ]
     },
     "execution_count": 52,
     "metadata": {
      "tags": []
     },
     "output_type": "execute_result"
    }
   ],
   "source": [
    "products = product_names[6:16] #taking 10 mobile phones\n",
    "print(\"10 mobies names :\")\n",
    "products"
   ]
  },
  {
   "cell_type": "code",
   "execution_count": 17,
   "metadata": {
    "id": "FE-XH7HC7Jcr"
   },
   "outputs": [],
   "source": [
    "#each product in amazon is identified by unique number asin, so lets get that numbers so that we can use those numbers to get the respective mobile page and reviews\n",
    "data_asin=[]\n",
    "for i in soup.findAll(\"div\",{'class' : \"sg-col-20-of-24 s-result-item s-asin sg-col-0-of-12 sg-col-28-of-32 sg-col-16-of-20 sg-col sg-col-32-of-36 sg-col-12-of-16 sg-col-24-of-28\"}): # the tag which is common for all the names of products\n",
    "    data_asin.append(i['data-asin']) #adding the product names to the list"
   ]
  },
  {
   "cell_type": "code",
   "execution_count": 53,
   "metadata": {
    "colab": {
     "base_uri": "https://localhost:8080/",
     "height": 204
    },
    "id": "JkNRsRmA9jO8",
    "outputId": "64a8effa-ca46-404f-9a66-81a86376141b"
   },
   "outputs": [
    {
     "name": "stdout",
     "output_type": "stream",
     "text": [
      "ASIN numbers of these 10 mobiles:\n"
     ]
    },
    {
     "data": {
      "text/plain": [
       "['B071Z97T2C',\n",
       " 'B077Q42GDF',\n",
       " 'B086KCCMCP',\n",
       " 'B07WPVLKPW',\n",
       " 'B07DJCJBB3',\n",
       " 'B07HGJJ559',\n",
       " 'B086KCDGTQ',\n",
       " 'B07X1KSWZ3',\n",
       " 'B07HGH8D2R',\n",
       " 'B089MS3GLM']"
      ]
     },
     "execution_count": 53,
     "metadata": {
      "tags": []
     },
     "output_type": "execute_result"
    }
   ],
   "source": [
    "asin_numbers = data_asin[6:16] #taking asin of those above mobiles\n",
    "print(\"ASIN numbers of these 10 mobiles:\")\n",
    "asin_numbers"
   ]
  },
  {
   "cell_type": "code",
   "execution_count": 19,
   "metadata": {
    "id": "CS7MA3kB9vh2"
   },
   "outputs": [],
   "source": [
    "#using the asin numbers get the \"all customer reviews\" link of each mobile\n",
    "link=[]\n",
    "for i in range(len(asin_numbers)):\n",
    "    response=requests.get(url = \"https://www.amazon.in/dp/\" + asin_numbers[i] + \"#customerReviews\", headers = header)\n",
    "    soup=BeautifulSoup(response.content)\n",
    "    for i in soup.findAll(\"a\",{'data-hook':\"see-all-reviews-link-foot\"}): #get the links\n",
    "        link.append(i['href'])"
   ]
  },
  {
   "cell_type": "code",
   "execution_count": 20,
   "metadata": {
    "colab": {
     "base_uri": "https://localhost:8080/",
     "height": 187
    },
    "id": "CBsHNRhMGiqN",
    "outputId": "ae58ef7a-7e38-4f51-937e-5b8c7af413fc"
   },
   "outputs": [
    {
     "data": {
      "text/plain": [
       "['/Test-Exclusive-237/product-reviews/B071Z97T2C/ref=cm_cr_dp_d_show_all_btm?ie=UTF8&reviewerType=all_reviews',\n",
       " '/Test-Exclusive-545/product-reviews/B077Q42GDF/ref=cm_cr_dp_d_show_all_btm?ie=UTF8&reviewerType=all_reviews',\n",
       " '/Samsung-Galaxy-Storage-Additional-Exchange/product-reviews/B086KCCMCP/ref=cm_cr_dp_d_show_all_btm?ie=UTF8&reviewerType=all_reviews',\n",
       " '/Redmi-8A-Dual-Blue-Storage/product-reviews/B07WPVLKPW/ref=cm_cr_dp_d_show_all_btm?ie=UTF8&reviewerType=all_reviews',\n",
       " '/Test-Exclusive-712/product-reviews/B07DJCJBB3/ref=cm_cr_dp_d_show_all_btm?ie=UTF8&reviewerType=all_reviews',\n",
       " '/Test-Exclusive-614/product-reviews/B07HGJJ559/ref=cm_cr_dp_d_show_all_btm?ie=UTF8&reviewerType=all_reviews',\n",
       " '/Samsung-Galaxy-Storage-Additional-Exchange/product-reviews/B086KCDGTQ/ref=cm_cr_dp_d_show_all_btm?ie=UTF8&reviewerType=all_reviews',\n",
       " '/Redmi-8A-Dual-White-Storage/product-reviews/B07X1KSWZ3/ref=cm_cr_dp_d_show_all_btm?ie=UTF8&reviewerType=all_reviews',\n",
       " '/Test-Exclusive-667/product-reviews/B07HGH8D2R/ref=cm_cr_dp_d_show_all_btm?ie=UTF8&reviewerType=all_reviews',\n",
       " '/Samsung-Galaxy-Storage-Additional-Exchange/product-reviews/B089MS3GLM/ref=cm_cr_dp_d_show_all_btm?ie=UTF8&reviewerType=all_reviews']"
      ]
     },
     "execution_count": 20,
     "metadata": {
      "tags": []
     },
     "output_type": "execute_result"
    }
   ],
   "source": [
    "link #links of \"all customer reviews\" of each mobile"
   ]
  },
  {
   "cell_type": "code",
   "execution_count": 22,
   "metadata": {
    "id": "J64EpM3LGlzC"
   },
   "outputs": [],
   "source": [
    "#we take the above links and get the first page reviews of each mobile\n",
    "reviews=[]\n",
    "for j in range(len(link)): #for each reviews page link\n",
    "    for k in range(1): #page number\n",
    "        response=requests.get(url =\"https://www.amazon.in\" + link[j]+'&pageNumber='+str(k), headers = header)\n",
    "        soup=BeautifulSoup(response.content)\n",
    "        for i in soup.findAll(\"span\",{'data-hook':\"review-body\"}): #get the reviews\n",
    "            reviews.append(i.text)"
   ]
  },
  {
   "cell_type": "code",
   "execution_count": 50,
   "metadata": {
    "colab": {
     "base_uri": "https://localhost:8080/",
     "height": 34
    },
    "id": "-aCpCtOrH55h",
    "outputId": "ddf04807-4dd5-4880-b685-97f42fda4c43"
   },
   "outputs": [
    {
     "name": "stdout",
     "output_type": "stream",
     "text": [
      "total number of reviews scrapped: 100 : 10 reviews each per mobile\n"
     ]
    }
   ],
   "source": [
    "print(\"total number of reviews scrapped: {} : 10 reviews each per mobile\".format(len(reviews)))"
   ]
  },
  {
   "cell_type": "code",
   "execution_count": 35,
   "metadata": {
    "colab": {
     "base_uri": "https://localhost:8080/",
     "height": 34
    },
    "id": "eWTTA1daIJQt",
    "outputId": "ea88903e-2e40-4e93-b434-3b309d635d43"
   },
   "outputs": [
    {
     "data": {
      "text/plain": [
       "100"
      ]
     },
     "execution_count": 35,
     "metadata": {
      "tags": []
     },
     "output_type": "execute_result"
    }
   ],
   "source": [
    "import numpy as np\n",
    "import pandas as pd\n",
    "mobiles = np.repeat(products,10) #repeating the mobile name for each review to make the final data\n",
    "mobiles_reviews = pd.DataFrame(list(zip(mobiles,reviews)), columns =['mobile', 'review']) #dataframe of reviews\n",
    "mobiles_reviews.to_csv(\"scrapped_reviews.csv\", index=False) #csv file of reviews"
   ]
  }
 ],
 "metadata": {
  "colab": {
   "collapsed_sections": [],
   "name": "SCRAPPING.ipynb",
   "provenance": []
  },
  "kernelspec": {
   "display_name": "Python 3",
   "language": "python",
   "name": "python3"
  },
  "language_info": {
   "codemirror_mode": {
    "name": "ipython",
    "version": 3
   },
   "file_extension": ".py",
   "mimetype": "text/x-python",
   "name": "python",
   "nbconvert_exporter": "python",
   "pygments_lexer": "ipython3",
   "version": "3.8.3"
  }
 },
 "nbformat": 4,
 "nbformat_minor": 1
}
